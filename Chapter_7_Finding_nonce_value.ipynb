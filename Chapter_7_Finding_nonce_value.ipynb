{
  "nbformat": 4,
  "nbformat_minor": 0,
  "metadata": {
    "colab": {
      "name": "Chapter 7 - Finding nonce value.ipynb",
      "provenance": [],
      "collapsed_sections": []
    },
    "kernelspec": {
      "name": "python3",
      "display_name": "Python 3"
    },
    "language_info": {
      "name": "python"
    }
  },
  "cells": [
    {
      "cell_type": "markdown",
      "source": [
        "# Script to find the nonce that meets the trailing number of zeros for the hash \n"
      ],
      "metadata": {
        "id": "nJyAdpVmQGdG"
      }
    },
    {
      "cell_type": "code",
      "execution_count": 4,
      "metadata": {
        "colab": {
          "base_uri": "https://localhost:8080/"
        },
        "id": "7FM-j09jP9ZR",
        "outputId": "8c012ed3-fd7c-4ffa-de08-a0a773506d0f"
      },
      "outputs": [
        {
          "output_type": "stream",
          "name": "stdout",
          "text": [
            "I <3 Seattle0 -> 9c09e87a5b28704ec5ad074e45794012ff7610b6eaba9814e469da289764933b\n",
            "I <3 Seattle1 -> 673979cdd56f9818c6158038356b672e030bc55e47c102c8c49505570faafc82\n",
            "I <3 Seattle2 -> 46e1fd790cee246eb5c27b12c14e786f6e7808037fc3f8ea62f5579bd151e7d4\n",
            "I <3 Seattle3 -> b0888938d9a2465b9bd9459a73e6bf1170f3432d79d6af7cf0ca69027e4d1cae\n",
            "I <3 Seattle4 -> 08b40519f40c2733434ad9fb177968fb965ba61aa42e1c443e0e484e7c2abbf3\n",
            "\n",
            "\n",
            "Hash: 08b40519f40c2733434ad9fb177968fb965ba61aa42e1c443e0e484e7c2abbf3  Nonce: 4\n",
            "Hash: 0073c86031b349696b47c48e9bbbbaa62acae3e75c44aeb8447b0aaa66b85f69  Nonce: 324\n",
            "Hash: 0006df0a1da1ca938468c7885b9ab40b5aee31c59552a74946ff2401e4064492  Nonce: 8163\n",
            "Hash: 00006a9d1846a1c88771c1d052d387169cbbd9d39776efac0c03478bffad4729  Nonce: 27485\n",
            "Hash: 00000256c906b6733c10c055d1d30b9badbb366fb8c406d9a6daead24a9a5ecf  Nonce: 1513830\n"
          ]
        }
      ],
      "source": [
        "import hashlib\n",
        "import re\n",
        "\n",
        "blockHeader = \"I <3 Seattle\" # blockheader content\n",
        "\n",
        "# First 5 hashes created by incrementing nonce value \n",
        "# Hash with nonce 4 has one leading zero\n",
        "for nonce in range(5):\n",
        "    trans = blockHeader + str(nonce)\n",
        "    result = str(hashlib.sha256(trans.encode()).hexdigest()) \n",
        "    print(trans, \"->\", result )\n",
        "\n",
        "print(\"\\n\")\n",
        "\n",
        "\n",
        "# Creating a function to find the hash with a given number of leading zeros\n",
        "def findNonce(blockHeader, zeros):\n",
        "    \"\"\" Function to find the hash for a blockheader with the defined leading number of zeros.\n",
        "\n",
        "    Parameters\n",
        "    ----------\n",
        "    blockheader: str\n",
        "        The string representation of a blockheader\n",
        "    zeros: str\n",
        "        The leading zeros required in the hash\n",
        "    \"\"\"\n",
        "    \n",
        "    nonce = 0\n",
        "    while True:\n",
        "        nonce  = str(nonce)\n",
        "        \n",
        "        # adding the nonce to the blockheader\n",
        "        trans  = blockHeader + nonce       \n",
        "        \n",
        "        # Encoding transaction into bytes and then taking a hash, then\n",
        "        # turning it into hexadecimal value, and finally into a string\n",
        "        result = str(hashlib.sha256(trans.encode()).hexdigest()) \n",
        "        \n",
        "        # Finding if the hash contains the required leading zeros \n",
        "        if re.match(zeros, result) is not None: \n",
        "            print(\"Hash: \" + result + \"  Nonce: \" + nonce)\n",
        "            break\n",
        "        nonce = int(nonce) + 1\n",
        "\n",
        "\n",
        "# Finding the nonce that meets the trailing zeros with increasing difficulty\n",
        "zero_array  = [\"0\", \"00\", \"000\", \"0000\", \"00000\"] # array of strings of leading zeros\n",
        "\n",
        "for difficulty in zero_array:\n",
        "    findNonce(blockHeader, difficulty) \n",
        "    "
      ]
    }
  ]
}